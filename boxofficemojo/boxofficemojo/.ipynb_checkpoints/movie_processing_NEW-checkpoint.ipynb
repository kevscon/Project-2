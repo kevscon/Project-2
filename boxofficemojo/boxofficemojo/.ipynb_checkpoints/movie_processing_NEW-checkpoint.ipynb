{
 "cells": [
  {
   "cell_type": "markdown",
   "metadata": {},
   "source": [
    "# Independent Movie Data"
   ]
  },
  {
   "cell_type": "markdown",
   "metadata": {},
   "source": [
    "## Import webscraed data\n",
    "\n",
    "Import Boxoffice mojo and the-Numbers webscraped data"
   ]
  },
  {
   "cell_type": "code",
   "execution_count": 2,
   "metadata": {},
   "outputs": [],
   "source": [
    "import pandas as pd\n",
    "import matplotlib.pyplot as plt"
   ]
  },
  {
   "cell_type": "code",
   "execution_count": 3,
   "metadata": {},
   "outputs": [],
   "source": [
    "# read in scraped boxofficemojo movie data\n",
    "df = pd.read_csv('movies.csv')"
   ]
  },
  {
   "cell_type": "code",
   "execution_count": 4,
   "metadata": {},
   "outputs": [],
   "source": [
    "# reformat titles with ':' characters\n",
    "df['title'] = df['title'].apply(lambda x: x.replace(':,', ': '))"
   ]
  },
  {
   "cell_type": "code",
   "execution_count": 5,
   "metadata": {},
   "outputs": [],
   "source": [
    "# specify Big Six distributors to be removed from data set\n",
    "big_six = ['Buena Vista', 'Warner Bros.', 'Warner Bros. (New Line)', 'Sony / Columbia', '20th Century Fox', 'Fox', 'Universal', 'Paramount', 'Paramount (DreamWorks)']"
   ]
  },
  {
   "cell_type": "code",
   "execution_count": 6,
   "metadata": {},
   "outputs": [],
   "source": [
    "# create dataframe without Big Six distributors\n",
    "df_indie = df.loc[~df['distributor'].isin(big_six)]"
   ]
  },
  {
   "cell_type": "code",
   "execution_count": 7,
   "metadata": {},
   "outputs": [],
   "source": [
    "# export csv file with indie film title list\n",
    "df_indie['title'].to_csv('movie_list.csv', index=False, header=False)"
   ]
  },
  {
   "cell_type": "code",
   "execution_count": 8,
   "metadata": {},
   "outputs": [],
   "source": [
    "# read in scraped the-numbers movie financial data\n",
    "df_indie_fin = pd.read_csv('fin.csv')"
   ]
  },
  {
   "cell_type": "markdown",
   "metadata": {},
   "source": [
    "## Clean Boxofficemojo data"
   ]
  },
  {
   "cell_type": "code",
   "execution_count": 9,
   "metadata": {},
   "outputs": [
    {
     "data": {
      "text/html": [
       "<div>\n",
       "<style scoped>\n",
       "    .dataframe tbody tr th:only-of-type {\n",
       "        vertical-align: middle;\n",
       "    }\n",
       "\n",
       "    .dataframe tbody tr th {\n",
       "        vertical-align: top;\n",
       "    }\n",
       "\n",
       "    .dataframe thead th {\n",
       "        text-align: right;\n",
       "    }\n",
       "</style>\n",
       "<table border=\"1\" class=\"dataframe\">\n",
       "  <thead>\n",
       "    <tr style=\"text-align: right;\">\n",
       "      <th></th>\n",
       "      <th>title</th>\n",
       "      <th>distributor</th>\n",
       "      <th>dom_gross</th>\n",
       "      <th>intl_gross</th>\n",
       "      <th>release_date</th>\n",
       "      <th>genre</th>\n",
       "      <th>runtime</th>\n",
       "      <th>mpaa_rating</th>\n",
       "      <th>budget</th>\n",
       "      <th>num_theaters</th>\n",
       "      <th>num_days</th>\n",
       "      <th>director</th>\n",
       "      <th>actors</th>\n",
       "    </tr>\n",
       "  </thead>\n",
       "  <tbody>\n",
       "    <tr>\n",
       "      <th>0</th>\n",
       "      <td>Faces Places</td>\n",
       "      <td>Cohen Media Group</td>\n",
       "      <td>$953,717</td>\n",
       "      <td>$953,717</td>\n",
       "      <td>October 6, 2017</td>\n",
       "      <td>Documentary</td>\n",
       "      <td>1 hrs. 29 min.</td>\n",
       "      <td>PG</td>\n",
       "      <td>NaN</td>\n",
       "      <td>42 theaters</td>\n",
       "      <td>196 days / 28 weeks</td>\n",
       "      <td>NaN</td>\n",
       "      <td>NaN</td>\n",
       "    </tr>\n",
       "    <tr>\n",
       "      <th>1</th>\n",
       "      <td>Churchill</td>\n",
       "      <td>Cohen Media Group</td>\n",
       "      <td>$1,281,258</td>\n",
       "      <td>$1,281,258</td>\n",
       "      <td>June 2, 2017</td>\n",
       "      <td>Drama</td>\n",
       "      <td>1 hrs. 38 min.</td>\n",
       "      <td>PG</td>\n",
       "      <td>NaN</td>\n",
       "      <td>215 theaters</td>\n",
       "      <td>76 days / 10.9 weeks</td>\n",
       "      <td>NaN</td>\n",
       "      <td>Brian Cox,John Slattery</td>\n",
       "    </tr>\n",
       "    <tr>\n",
       "      <th>2</th>\n",
       "      <td>The Salesman</td>\n",
       "      <td>Cohen Media Group</td>\n",
       "      <td>$2,402,067</td>\n",
       "      <td>$2,402,067</td>\n",
       "      <td>January 27, 2017</td>\n",
       "      <td>Drama / Thriller</td>\n",
       "      <td>2 hrs. 5 min.</td>\n",
       "      <td>PG-13</td>\n",
       "      <td>NaN</td>\n",
       "      <td>115 theaters</td>\n",
       "      <td>80 days / 11.4 weeks</td>\n",
       "      <td>NaN</td>\n",
       "      <td>NaN</td>\n",
       "    </tr>\n",
       "    <tr>\n",
       "      <th>15</th>\n",
       "      <td>God's Own Country</td>\n",
       "      <td>Orion Pictures</td>\n",
       "      <td>$335,609</td>\n",
       "      <td>$335,609</td>\n",
       "      <td>October 24, 2017</td>\n",
       "      <td>Drama</td>\n",
       "      <td>1 hrs. 44 min.</td>\n",
       "      <td>Unrated</td>\n",
       "      <td>NaN</td>\n",
       "      <td>13 theaters</td>\n",
       "      <td>136 days / 19.4 weeks</td>\n",
       "      <td>NaN</td>\n",
       "      <td>NaN</td>\n",
       "    </tr>\n",
       "    <tr>\n",
       "      <th>69</th>\n",
       "      <td>T2: Trainspotting</td>\n",
       "      <td>TriStar</td>\n",
       "      <td>$2,402,004</td>\n",
       "      <td>$41,681,746</td>\n",
       "      <td>March 17, 2017</td>\n",
       "      <td>Crime Comedy</td>\n",
       "      <td>1 hrs. 57 min.</td>\n",
       "      <td>R</td>\n",
       "      <td>$18 million</td>\n",
       "      <td>331 theaters</td>\n",
       "      <td>70 days / 10 weeks</td>\n",
       "      <td>Danny Boyle</td>\n",
       "      <td>Ewen Bremner,Ewan McGregor</td>\n",
       "    </tr>\n",
       "  </tbody>\n",
       "</table>\n",
       "</div>"
      ],
      "text/plain": [
       "                title        distributor   dom_gross   intl_gross  \\\n",
       "0        Faces Places  Cohen Media Group    $953,717     $953,717   \n",
       "1           Churchill  Cohen Media Group  $1,281,258   $1,281,258   \n",
       "2        The Salesman  Cohen Media Group  $2,402,067   $2,402,067   \n",
       "15  God's Own Country     Orion Pictures    $335,609     $335,609   \n",
       "69  T2: Trainspotting            TriStar  $2,402,004  $41,681,746   \n",
       "\n",
       "        release_date             genre         runtime mpaa_rating  \\\n",
       "0    October 6, 2017       Documentary  1 hrs. 29 min.          PG   \n",
       "1       June 2, 2017             Drama  1 hrs. 38 min.          PG   \n",
       "2   January 27, 2017  Drama / Thriller   2 hrs. 5 min.       PG-13   \n",
       "15  October 24, 2017             Drama  1 hrs. 44 min.     Unrated   \n",
       "69    March 17, 2017      Crime Comedy  1 hrs. 57 min.           R   \n",
       "\n",
       "         budget   num_theaters                num_days     director  \\\n",
       "0           NaN    42 theaters     196 days / 28 weeks          NaN   \n",
       "1           NaN   215 theaters    76 days / 10.9 weeks          NaN   \n",
       "2           NaN   115 theaters    80 days / 11.4 weeks          NaN   \n",
       "15          NaN    13 theaters   136 days / 19.4 weeks          NaN   \n",
       "69  $18 million   331 theaters      70 days / 10 weeks  Danny Boyle   \n",
       "\n",
       "                        actors  \n",
       "0                          NaN  \n",
       "1      Brian Cox,John Slattery  \n",
       "2                          NaN  \n",
       "15                         NaN  \n",
       "69  Ewen Bremner,Ewan McGregor  "
      ]
     },
     "execution_count": 9,
     "metadata": {},
     "output_type": "execute_result"
    }
   ],
   "source": [
    "df_indie.head()"
   ]
  },
  {
   "cell_type": "markdown",
   "metadata": {},
   "source": [
    "### Round 1 Analysis\n",
    "\n",
    "Create and apply reformatting functions, remove NaNs"
   ]
  },
  {
   "cell_type": "code",
   "execution_count": 10,
   "metadata": {},
   "outputs": [],
   "source": [
    "# initialize \"clean\" dataframe\n",
    "df_indie_clean = pd.DataFrame(df_indie['title'])\n",
    "df_indie_clean['distributor'] = df_indie['distributor']\n",
    "df_indie_clean['genre'] = df_indie['genre']\n",
    "df_indie_clean['mpaa_rating'] = df_indie['mpaa_rating']\n",
    "df_indie_clean['director'] = df_indie['director']"
   ]
  },
  {
   "cell_type": "code",
   "execution_count": 11,
   "metadata": {},
   "outputs": [],
   "source": [
    "# define function to reformat monetary values to integers\n",
    "def money_to_int(moneystring):\n",
    "    \n",
    "    try:\n",
    "        moneystring = str(moneystring).replace('$', '').replace(',', '')\n",
    "        return int(moneystring)\n",
    "    \n",
    "    except ValueError:\n",
    "        return None\n",
    "    \n",
    "    \n",
    "# define function to reformat date values\n",
    "import dateutil.parser\n",
    "\n",
    "def to_date(datestring):\n",
    "    \n",
    "    try:\n",
    "        date = dateutil.parser.parse(datestring)\n",
    "        return date\n",
    "    \n",
    "    except ValueError:\n",
    "        return None\n",
    "    \n",
    "    \n",
    "# define function to reformat runtime to minutes\n",
    "def runtime_to_minutes(runtimestring):\n",
    "    runtime1 = str(runtimestring)\n",
    "    runtime = runtime1.split()\n",
    "    try:\n",
    "        minutes = int(runtime[0])*60 + int(runtime[2])\n",
    "        return minutes\n",
    "    except:\n",
    "        return None\n",
    "    \n",
    "        \n",
    "# define function to retrieve numerical values for number of theaters and days showing\n",
    "def theat_to_num(theat_string):\n",
    "    try:\n",
    "        number = theat_string.split(' ')\n",
    "        return abs(int(number[0]))\n",
    "    except:\n",
    "        return None"
   ]
  },
  {
   "cell_type": "code",
   "execution_count": 12,
   "metadata": {},
   "outputs": [],
   "source": [
    "# reformat gross values\n",
    "df_indie_clean['dom_gross'] = df_indie.loc[:, 'dom_gross'].apply(money_to_int)\n",
    "df_indie_clean['intl_gross'] = df_indie.loc[:, 'intl_gross'].apply(money_to_int)"
   ]
  },
  {
   "cell_type": "code",
   "execution_count": 13,
   "metadata": {},
   "outputs": [],
   "source": [
    "# reformat release_date\n",
    "df_indie_clean['release_date'] = df_indie.loc[:, 'release_date'].apply(to_date)"
   ]
  },
  {
   "cell_type": "code",
   "execution_count": 14,
   "metadata": {},
   "outputs": [],
   "source": [
    "# apply function to runtime column\n",
    "df_indie_clean['runtime'] = df_indie.loc[:, 'runtime'].apply(runtime_to_minutes)"
   ]
  },
  {
   "cell_type": "code",
   "execution_count": 15,
   "metadata": {},
   "outputs": [],
   "source": [
    "df_indie_clean['num_theaters'] = df_indie.loc[:, 'num_theaters'].apply(theat_to_num)"
   ]
  },
  {
   "cell_type": "code",
   "execution_count": 16,
   "metadata": {},
   "outputs": [],
   "source": [
    "df_indie_clean['num_days'] = df_indie.loc[:, 'num_days'].apply(theat_to_num)"
   ]
  },
  {
   "cell_type": "code",
   "execution_count": 17,
   "metadata": {},
   "outputs": [
    {
     "data": {
      "image/png": "[encoded data removed]",
      "text/plain": [
       "<matplotlib.figure.Figure at 0x1130e46d8>"
      ]
     },
     "metadata": {},
     "output_type": "display_data"
    }
   ],
   "source": [
    "# plot gross by release date\n",
    "x = df_indie_clean['release_date']\n",
    "y = df_indie_clean['dom_gross']\n",
    "plt.scatter(x.values, y);"
   ]
  },
  {
   "cell_type": "code",
   "execution_count": 18,
   "metadata": {},
   "outputs": [
    {
     "data": {
      "text/html": [
       "<div>\n",
       "<style scoped>\n",
       "    .dataframe tbody tr th:only-of-type {\n",
       "        vertical-align: middle;\n",
       "    }\n",
       "\n",
       "    .dataframe tbody tr th {\n",
       "        vertical-align: top;\n",
       "    }\n",
       "\n",
       "    .dataframe thead th {\n",
       "        text-align: right;\n",
       "    }\n",
       "</style>\n",
       "<table border=\"1\" class=\"dataframe\">\n",
       "  <thead>\n",
       "    <tr style=\"text-align: right;\">\n",
       "      <th></th>\n",
       "      <th>title</th>\n",
       "      <th>distributor</th>\n",
       "      <th>genre</th>\n",
       "      <th>mpaa_rating</th>\n",
       "      <th>director</th>\n",
       "      <th>dom_gross</th>\n",
       "      <th>intl_gross</th>\n",
       "      <th>release_date</th>\n",
       "      <th>runtime</th>\n",
       "      <th>num_theaters</th>\n",
       "      <th>num_days</th>\n",
       "    </tr>\n",
       "  </thead>\n",
       "  <tbody>\n",
       "    <tr>\n",
       "      <th>0</th>\n",
       "      <td>Faces Places</td>\n",
       "      <td>Cohen Media Group</td>\n",
       "      <td>Documentary</td>\n",
       "      <td>PG</td>\n",
       "      <td>NaN</td>\n",
       "      <td>953717.0</td>\n",
       "      <td>953717.0</td>\n",
       "      <td>2017-10-06</td>\n",
       "      <td>89.0</td>\n",
       "      <td>42.0</td>\n",
       "      <td>196.0</td>\n",
       "    </tr>\n",
       "    <tr>\n",
       "      <th>1</th>\n",
       "      <td>Churchill</td>\n",
       "      <td>Cohen Media Group</td>\n",
       "      <td>Drama</td>\n",
       "      <td>PG</td>\n",
       "      <td>NaN</td>\n",
       "      <td>1281258.0</td>\n",
       "      <td>1281258.0</td>\n",
       "      <td>2017-06-02</td>\n",
       "      <td>98.0</td>\n",
       "      <td>215.0</td>\n",
       "      <td>76.0</td>\n",
       "    </tr>\n",
       "    <tr>\n",
       "      <th>2</th>\n",
       "      <td>The Salesman</td>\n",
       "      <td>Cohen Media Group</td>\n",
       "      <td>Drama / Thriller</td>\n",
       "      <td>PG-13</td>\n",
       "      <td>NaN</td>\n",
       "      <td>2402067.0</td>\n",
       "      <td>2402067.0</td>\n",
       "      <td>2017-01-27</td>\n",
       "      <td>125.0</td>\n",
       "      <td>115.0</td>\n",
       "      <td>80.0</td>\n",
       "    </tr>\n",
       "    <tr>\n",
       "      <th>15</th>\n",
       "      <td>God's Own Country</td>\n",
       "      <td>Orion Pictures</td>\n",
       "      <td>Drama</td>\n",
       "      <td>Unrated</td>\n",
       "      <td>NaN</td>\n",
       "      <td>335609.0</td>\n",
       "      <td>335609.0</td>\n",
       "      <td>2017-10-24</td>\n",
       "      <td>104.0</td>\n",
       "      <td>13.0</td>\n",
       "      <td>136.0</td>\n",
       "    </tr>\n",
       "    <tr>\n",
       "      <th>69</th>\n",
       "      <td>T2: Trainspotting</td>\n",
       "      <td>TriStar</td>\n",
       "      <td>Crime Comedy</td>\n",
       "      <td>R</td>\n",
       "      <td>Danny Boyle</td>\n",
       "      <td>2402004.0</td>\n",
       "      <td>41681746.0</td>\n",
       "      <td>2017-03-17</td>\n",
       "      <td>117.0</td>\n",
       "      <td>331.0</td>\n",
       "      <td>70.0</td>\n",
       "    </tr>\n",
       "  </tbody>\n",
       "</table>\n",
       "</div>"
      ],
      "text/plain": [
       "                title        distributor             genre mpaa_rating  \\\n",
       "0        Faces Places  Cohen Media Group       Documentary          PG   \n",
       "1           Churchill  Cohen Media Group             Drama          PG   \n",
       "2        The Salesman  Cohen Media Group  Drama / Thriller       PG-13   \n",
       "15  God's Own Country     Orion Pictures             Drama     Unrated   \n",
       "69  T2: Trainspotting            TriStar      Crime Comedy           R   \n",
       "\n",
       "       director  dom_gross  intl_gross release_date  runtime  num_theaters  \\\n",
       "0           NaN   953717.0    953717.0   2017-10-06     89.0          42.0   \n",
       "1           NaN  1281258.0   1281258.0   2017-06-02     98.0         215.0   \n",
       "2           NaN  2402067.0   2402067.0   2017-01-27    125.0         115.0   \n",
       "15          NaN   335609.0    335609.0   2017-10-24    104.0          13.0   \n",
       "69  Danny Boyle  2402004.0  41681746.0   2017-03-17    117.0         331.0   \n",
       "\n",
       "    num_days  \n",
       "0      196.0  \n",
       "1       76.0  \n",
       "2       80.0  \n",
       "15     136.0  \n",
       "69      70.0  "
      ]
     },
     "execution_count": 18,
     "metadata": {},
     "output_type": "execute_result"
    }
   ],
   "source": [
    "df_indie_clean.head()"
   ]
  },
  {
   "cell_type": "code",
   "execution_count": 19,
   "metadata": {},
   "outputs": [],
   "source": [
    "# remove null values in release_date column\n",
    "df_indie_clean = df_indie_clean[df_indie_clean['release_date'].notnull()]"
   ]
  },
  {
   "cell_type": "code",
   "execution_count": 20,
   "metadata": {},
   "outputs": [],
   "source": [
    "# add month and year columns\n",
    "import calendar\n",
    "df_indie_clean['release_year'] = df_indie_clean['release_date'].apply(lambda x: x.year)\n",
    "df_indie_clean['release_month'] = df_indie_clean['release_date'].apply(lambda x: calendar.month_abbr[int(x.month)])"
   ]
  },
  {
   "cell_type": "code",
   "execution_count": 21,
   "metadata": {},
   "outputs": [],
   "source": [
    "# remove data for years prior to 2008 that snuck into data\n",
    "df_indie_clean = df_indie_clean.drop(df_indie_clean[df_indie_clean['release_year'] < 2008].index)"
   ]
  },
  {
   "cell_type": "code",
   "execution_count": 22,
   "metadata": {
    "scrolled": true
   },
   "outputs": [
    {
     "data": {
      "image/png": "[encoded data removed]",
      "text/plain": [
       "<matplotlib.figure.Figure at 0x11c31c780>"
      ]
     },
     "metadata": {},
     "output_type": "display_data"
    }
   ],
   "source": [
    "x = df_indie_clean['release_date']\n",
    "y = df_indie_clean['dom_gross']\n",
    "plt.scatter(x.values, y);"
   ]
  },
  {
   "cell_type": "code",
   "execution_count": 23,
   "metadata": {},
   "outputs": [],
   "source": [
    "# replace NaN values with mean values\n",
    "#df_indie_clean['dom_gross'].fillna(df_indie_clean['dom_gross'].mean(), inplace=True);\n",
    "#df_indie_clean['intl_gross'].fillna(df_indie_clean['intl_gross'].mean(), inplace=True);\n",
    "#df_indie_clean['runtime'].fillna(df_indie_clean['runtime'].mean(), inplace=True);\n",
    "#df_indie_clean['num_theaters'].fillna(df_indie_clean['num_theaters'].mean(), inplace=True);\n",
    "#df_indie_clean['num_days'].fillna(df_indie_clean['num_days'].mean(), inplace=True);"
   ]
  },
  {
   "cell_type": "code",
   "execution_count": 24,
   "metadata": {},
   "outputs": [],
   "source": [
    "# drop rows with any remaining NaN values\n",
    "#df_indie_clean = df_indie_clean.dropna(axis=0, how='any')"
   ]
  },
  {
   "cell_type": "markdown",
   "metadata": {},
   "source": [
    "### Inflation Adjustment\n",
    "\n",
    "Adjust monetary values for inflation (2017 baseline)"
   ]
  },
  {
   "cell_type": "code",
   "execution_count": 25,
   "metadata": {},
   "outputs": [],
   "source": [
    "# average annual CPI numbers (from usinflationcalculator.com) starting at 2008\n",
    "cpi_values = {2008: 215.303, 2009: 214.537, 2010: 218.056, 2011: 224.939, 2012: 229.594, 2013: 232.957, 2014: 236.736, 2015: 237.017, 2016: 240.007, 2017: 245.120}"
   ]
  },
  {
   "cell_type": "code",
   "execution_count": 26,
   "metadata": {},
   "outputs": [],
   "source": [
    "# create factors for years 2008-2017\n",
    "cpi_2017 = {}\n",
    "\n",
    "for year in range(2008, 2018):\n",
    "    cpi_2017[year] = cpi_values[2017] / cpi_values[year]"
   ]
  },
  {
   "cell_type": "code",
   "execution_count": 27,
   "metadata": {},
   "outputs": [],
   "source": [
    "# apply inflation factors to dataframe\n",
    "def infl_calc(dict, year, value):\n",
    "    infl_val = dict[int(year)] * value\n",
    "    return infl_val\n"
   ]
  },
  {
   "cell_type": "code",
   "execution_count": 28,
   "metadata": {},
   "outputs": [],
   "source": [
    "df_indie_clean['dom_gross'] = df_indie_clean.apply(lambda x: infl_calc(cpi_2017, x['release_year'], x['dom_gross']), axis=1);"
   ]
  },
  {
   "cell_type": "code",
   "execution_count": 29,
   "metadata": {},
   "outputs": [],
   "source": [
    "df_indie_clean['intl_gross'] = df_indie_clean.apply(lambda x: infl_calc(cpi_2017, x['release_year'], x['intl_gross']), axis=1);"
   ]
  },
  {
   "cell_type": "markdown",
   "metadata": {},
   "source": [
    "### Round 2 Analysis\n",
    "\n",
    "Add budget and the-Numbers data"
   ]
  },
  {
   "cell_type": "code",
   "execution_count": 30,
   "metadata": {},
   "outputs": [],
   "source": [
    "# define function to check formatting for gross values\n",
    "def budget_to_num1(budget_string):\n",
    "    \n",
    "    try:\n",
    "        budget = budget_string.replace('$', '').split(' ')\n",
    "        return budget[1]\n",
    "    except:\n",
    "        return None\n",
    "    \n",
    "\n",
    "# redefine function to reformat budget values\n",
    "def budget_to_num2(budget_string):\n",
    "    \n",
    "    try:\n",
    "        budget = budget_string.replace('$', '').split(' ')\n",
    "        return(int(budget[0]) * 1000000)\n",
    "    except:\n",
    "        return None"
   ]
  },
  {
   "cell_type": "code",
   "execution_count": 31,
   "metadata": {},
   "outputs": [
    {
     "data": {
      "text/plain": [
       "0             NaN\n",
       "1             NaN\n",
       "2             NaN\n",
       "15            NaN\n",
       "69    $18 million\n",
       "Name: budget, dtype: object"
      ]
     },
     "execution_count": 31,
     "metadata": {},
     "output_type": "execute_result"
    }
   ],
   "source": [
    "# reformat budget\n",
    "df_indie.budget.head()"
   ]
  },
  {
   "cell_type": "code",
   "execution_count": 32,
   "metadata": {},
   "outputs": [],
   "source": [
    "# assign budget values to series to check data types\n",
    "budget_data = df_indie.loc[:, 'budget'].apply(budget_to_num1)"
   ]
  },
  {
   "cell_type": "code",
   "execution_count": 33,
   "metadata": {},
   "outputs": [
    {
     "data": {
      "text/plain": [
       "0          None\n",
       "1          None\n",
       "2          None\n",
       "15         None\n",
       "69      million\n",
       "72         None\n",
       "76      million\n",
       "77         None\n",
       "78         None\n",
       "79         None\n",
       "80         None\n",
       "81         None\n",
       "82         None\n",
       "83         None\n",
       "84         None\n",
       "85         None\n",
       "86         None\n",
       "101        None\n",
       "102        None\n",
       "103        None\n",
       "104        None\n",
       "105        None\n",
       "106        None\n",
       "107        None\n",
       "108        None\n",
       "115        None\n",
       "116        None\n",
       "117        None\n",
       "118        None\n",
       "119        None\n",
       "         ...   \n",
       "5327       None\n",
       "5328       None\n",
       "5329       None\n",
       "5330       None\n",
       "5331       None\n",
       "5332       None\n",
       "5333       None\n",
       "5334       None\n",
       "5335       None\n",
       "5336       None\n",
       "5337       None\n",
       "5338       None\n",
       "5339       None\n",
       "5340       None\n",
       "5341       None\n",
       "5377       None\n",
       "5378    million\n",
       "5379    million\n",
       "5380    million\n",
       "5381    million\n",
       "5382    million\n",
       "5383    million\n",
       "5384       None\n",
       "5385       None\n",
       "5386       None\n",
       "5387       None\n",
       "5388    million\n",
       "5389       None\n",
       "5390    million\n",
       "5391    million\n",
       "Name: budget, Length: 4081, dtype: object"
      ]
     },
     "execution_count": 33,
     "metadata": {},
     "output_type": "execute_result"
    }
   ],
   "source": [
    "# return \n",
    "budget_data"
   ]
  },
  {
   "cell_type": "code",
   "execution_count": 42,
   "metadata": {},
   "outputs": [
    {
     "data": {
      "text/plain": [
       "array(['million'], dtype=object)"
      ]
     },
     "execution_count": 42,
     "metadata": {},
     "output_type": "execute_result"
    }
   ],
   "source": [
    "# only 'million' values after nulls are excluded\n",
    "budget_data[~budget_data.isnull()].unique()"
   ]
  },
  {
   "cell_type": "code",
   "execution_count": 43,
   "metadata": {},
   "outputs": [],
   "source": [
    "df_indie_clean['budget'] = df_indie.loc[:, 'budget'].apply(budget_to_num2)"
   ]
  },
  {
   "cell_type": "code",
   "execution_count": 44,
   "metadata": {},
   "outputs": [
    {
     "data": {
      "text/html": [
       "<div>\n",
       "<style scoped>\n",
       "    .dataframe tbody tr th:only-of-type {\n",
       "        vertical-align: middle;\n",
       "    }\n",
       "\n",
       "    .dataframe tbody tr th {\n",
       "        vertical-align: top;\n",
       "    }\n",
       "\n",
       "    .dataframe thead th {\n",
       "        text-align: right;\n",
       "    }\n",
       "</style>\n",
       "<table border=\"1\" class=\"dataframe\">\n",
       "  <thead>\n",
       "    <tr style=\"text-align: right;\">\n",
       "      <th></th>\n",
       "      <th>title</th>\n",
       "      <th>distributor</th>\n",
       "      <th>genre</th>\n",
       "      <th>mpaa_rating</th>\n",
       "      <th>dom_gross</th>\n",
       "      <th>intl_gross</th>\n",
       "      <th>release_date</th>\n",
       "      <th>runtime</th>\n",
       "      <th>num_theaters</th>\n",
       "      <th>num_days</th>\n",
       "      <th>release_year</th>\n",
       "      <th>release_month</th>\n",
       "      <th>budget</th>\n",
       "    </tr>\n",
       "  </thead>\n",
       "  <tbody>\n",
       "    <tr>\n",
       "      <th>0</th>\n",
       "      <td>Faces Places</td>\n",
       "      <td>Cohen Media Group</td>\n",
       "      <td>Documentary</td>\n",
       "      <td>PG</td>\n",
       "      <td>953717.0</td>\n",
       "      <td>953717.0</td>\n",
       "      <td>2017-10-06</td>\n",
       "      <td>89.0</td>\n",
       "      <td>42.0</td>\n",
       "      <td>196.0</td>\n",
       "      <td>2017</td>\n",
       "      <td>Oct</td>\n",
       "      <td>NaN</td>\n",
       "    </tr>\n",
       "    <tr>\n",
       "      <th>1</th>\n",
       "      <td>Churchill</td>\n",
       "      <td>Cohen Media Group</td>\n",
       "      <td>Drama</td>\n",
       "      <td>PG</td>\n",
       "      <td>1281258.0</td>\n",
       "      <td>1281258.0</td>\n",
       "      <td>2017-06-02</td>\n",
       "      <td>98.0</td>\n",
       "      <td>215.0</td>\n",
       "      <td>76.0</td>\n",
       "      <td>2017</td>\n",
       "      <td>Jun</td>\n",
       "      <td>NaN</td>\n",
       "    </tr>\n",
       "    <tr>\n",
       "      <th>2</th>\n",
       "      <td>The Salesman</td>\n",
       "      <td>Cohen Media Group</td>\n",
       "      <td>Drama / Thriller</td>\n",
       "      <td>PG-13</td>\n",
       "      <td>2402067.0</td>\n",
       "      <td>2402067.0</td>\n",
       "      <td>2017-01-27</td>\n",
       "      <td>125.0</td>\n",
       "      <td>115.0</td>\n",
       "      <td>80.0</td>\n",
       "      <td>2017</td>\n",
       "      <td>Jan</td>\n",
       "      <td>NaN</td>\n",
       "    </tr>\n",
       "    <tr>\n",
       "      <th>15</th>\n",
       "      <td>God's Own Country</td>\n",
       "      <td>Orion Pictures</td>\n",
       "      <td>Drama</td>\n",
       "      <td>Unrated</td>\n",
       "      <td>335609.0</td>\n",
       "      <td>335609.0</td>\n",
       "      <td>2017-10-24</td>\n",
       "      <td>104.0</td>\n",
       "      <td>13.0</td>\n",
       "      <td>136.0</td>\n",
       "      <td>2017</td>\n",
       "      <td>Oct</td>\n",
       "      <td>NaN</td>\n",
       "    </tr>\n",
       "    <tr>\n",
       "      <th>69</th>\n",
       "      <td>T2: Trainspotting</td>\n",
       "      <td>TriStar</td>\n",
       "      <td>Crime Comedy</td>\n",
       "      <td>R</td>\n",
       "      <td>2402004.0</td>\n",
       "      <td>41681746.0</td>\n",
       "      <td>2017-03-17</td>\n",
       "      <td>117.0</td>\n",
       "      <td>331.0</td>\n",
       "      <td>70.0</td>\n",
       "      <td>2017</td>\n",
       "      <td>Mar</td>\n",
       "      <td>18000000.0</td>\n",
       "    </tr>\n",
       "  </tbody>\n",
       "</table>\n",
       "</div>"
      ],
      "text/plain": [
       "                title        distributor             genre mpaa_rating  \\\n",
       "0        Faces Places  Cohen Media Group       Documentary          PG   \n",
       "1           Churchill  Cohen Media Group             Drama          PG   \n",
       "2        The Salesman  Cohen Media Group  Drama / Thriller       PG-13   \n",
       "15  God's Own Country     Orion Pictures             Drama     Unrated   \n",
       "69  T2: Trainspotting            TriStar      Crime Comedy           R   \n",
       "\n",
       "    dom_gross  intl_gross release_date  runtime  num_theaters  num_days  \\\n",
       "0    953717.0    953717.0   2017-10-06     89.0          42.0     196.0   \n",
       "1   1281258.0   1281258.0   2017-06-02     98.0         215.0      76.0   \n",
       "2   2402067.0   2402067.0   2017-01-27    125.0         115.0      80.0   \n",
       "15   335609.0    335609.0   2017-10-24    104.0          13.0     136.0   \n",
       "69  2402004.0  41681746.0   2017-03-17    117.0         331.0      70.0   \n",
       "\n",
       "    release_year release_month      budget  \n",
       "0           2017           Oct         NaN  \n",
       "1           2017           Jun         NaN  \n",
       "2           2017           Jan         NaN  \n",
       "15          2017           Oct         NaN  \n",
       "69          2017           Mar  18000000.0  "
      ]
     },
     "execution_count": 44,
     "metadata": {},
     "output_type": "execute_result"
    }
   ],
   "source": [
    "df_indie_clean.head()"
   ]
  },
  {
   "cell_type": "code",
   "execution_count": 45,
   "metadata": {},
   "outputs": [
    {
     "data": {
      "text/html": [
       "<div>\n",
       "<style scoped>\n",
       "    .dataframe tbody tr th:only-of-type {\n",
       "        vertical-align: middle;\n",
       "    }\n",
       "\n",
       "    .dataframe tbody tr th {\n",
       "        vertical-align: top;\n",
       "    }\n",
       "\n",
       "    .dataframe thead th {\n",
       "        text-align: right;\n",
       "    }\n",
       "</style>\n",
       "<table border=\"1\" class=\"dataframe\">\n",
       "  <thead>\n",
       "    <tr style=\"text-align: right;\">\n",
       "      <th></th>\n",
       "      <th>title</th>\n",
       "      <th>budget</th>\n",
       "      <th>dom_gross</th>\n",
       "      <th>intl_gross</th>\n",
       "      <th>disc_gross</th>\n",
       "      <th>release_date</th>\n",
       "    </tr>\n",
       "  </thead>\n",
       "  <tbody>\n",
       "    <tr>\n",
       "      <th>0</th>\n",
       "      <td>Valerian and the City of a Thousand Planets (2...</td>\n",
       "      <td>$180,000,000</td>\n",
       "      <td>$40,479,370</td>\n",
       "      <td>$215,116,144</td>\n",
       "      <td>$10,766,251</td>\n",
       "      <td>July 21st, 2017 (Wide) by</td>\n",
       "    </tr>\n",
       "    <tr>\n",
       "      <th>1</th>\n",
       "      <td>Gods of Egypt (2016)</td>\n",
       "      <td>$140,000,000</td>\n",
       "      <td>$31,153,464</td>\n",
       "      <td>$133,553,464</td>\n",
       "      <td>$16,146,559</td>\n",
       "      <td>February 26th, 2016 (Wide) by</td>\n",
       "    </tr>\n",
       "    <tr>\n",
       "      <th>2</th>\n",
       "      <td>The Divergent Series: Insurgent (2015)</td>\n",
       "      <td>$110,000,000</td>\n",
       "      <td>$130,179,072</td>\n",
       "      <td>$295,279,072</td>\n",
       "      <td>$35,099,488</td>\n",
       "      <td>March 20th, 2015 (Wide) by</td>\n",
       "    </tr>\n",
       "    <tr>\n",
       "      <th>3</th>\n",
       "      <td>The Expendables 3 (2014)</td>\n",
       "      <td>$100,000,000</td>\n",
       "      <td>$39,322,544</td>\n",
       "      <td>$209,461,378</td>\n",
       "      <td>$27,073,145</td>\n",
       "      <td>August 15th, 2014 (Wide) by</td>\n",
       "    </tr>\n",
       "    <tr>\n",
       "      <th>4</th>\n",
       "      <td>The Expendables (2010)</td>\n",
       "      <td>$82,000,000</td>\n",
       "      <td>$103,068,524</td>\n",
       "      <td>$268,268,174</td>\n",
       "      <td>$72,662,317</td>\n",
       "      <td>August 13th, 2010 (Wide) by</td>\n",
       "    </tr>\n",
       "  </tbody>\n",
       "</table>\n",
       "</div>"
      ],
      "text/plain": [
       "                                               title        budget  \\\n",
       "0  Valerian and the City of a Thousand Planets (2...  $180,000,000   \n",
       "1                               Gods of Egypt (2016)  $140,000,000   \n",
       "2             The Divergent Series: Insurgent (2015)  $110,000,000   \n",
       "3                           The Expendables 3 (2014)  $100,000,000   \n",
       "4                             The Expendables (2010)   $82,000,000   \n",
       "\n",
       "      dom_gross    intl_gross   disc_gross                    release_date  \n",
       "0   $40,479,370  $215,116,144  $10,766,251      July 21st, 2017 (Wide) by   \n",
       "1   $31,153,464  $133,553,464  $16,146,559  February 26th, 2016 (Wide) by   \n",
       "2  $130,179,072  $295,279,072  $35,099,488     March 20th, 2015 (Wide) by   \n",
       "3   $39,322,544  $209,461,378  $27,073,145    August 15th, 2014 (Wide) by   \n",
       "4  $103,068,524  $268,268,174  $72,662,317    August 13th, 2010 (Wide) by   "
      ]
     },
     "execution_count": 45,
     "metadata": {},
     "output_type": "execute_result"
    }
   ],
   "source": [
    "# read in the-numbers data\n",
    "df_indie_fin.head()"
   ]
  },
  {
   "cell_type": "code",
   "execution_count": 46,
   "metadata": {},
   "outputs": [],
   "source": [
    "# define function to retitle without year for matching with boxofficemojo data\n",
    "def title_name(title):\n",
    "    \n",
    "    rev_title = title[:-7]\n",
    "    return rev_title"
   ]
  },
  {
   "cell_type": "code",
   "execution_count": 47,
   "metadata": {},
   "outputs": [],
   "source": [
    "df_indie_fin['title'] = df_indie_fin['title'].apply(title_name)"
   ]
  },
  {
   "cell_type": "code",
   "execution_count": 48,
   "metadata": {},
   "outputs": [],
   "source": [
    "# drop unneeded data\n",
    "df_indie_fin = df_indie_fin.drop(columns=['budget', 'dom_gross', 'intl_gross', 'release_date']);"
   ]
  },
  {
   "cell_type": "code",
   "execution_count": 49,
   "metadata": {},
   "outputs": [
    {
     "data": {
      "text/html": [
       "<div>\n",
       "<style scoped>\n",
       "    .dataframe tbody tr th:only-of-type {\n",
       "        vertical-align: middle;\n",
       "    }\n",
       "\n",
       "    .dataframe tbody tr th {\n",
       "        vertical-align: top;\n",
       "    }\n",
       "\n",
       "    .dataframe thead th {\n",
       "        text-align: right;\n",
       "    }\n",
       "</style>\n",
       "<table border=\"1\" class=\"dataframe\">\n",
       "  <thead>\n",
       "    <tr style=\"text-align: right;\">\n",
       "      <th></th>\n",
       "      <th>title</th>\n",
       "      <th>disc_gross</th>\n",
       "    </tr>\n",
       "  </thead>\n",
       "  <tbody>\n",
       "    <tr>\n",
       "      <th>0</th>\n",
       "      <td>Valerian and the City of a Thousand Planets</td>\n",
       "      <td>$10,766,251</td>\n",
       "    </tr>\n",
       "    <tr>\n",
       "      <th>1</th>\n",
       "      <td>Gods of Egypt</td>\n",
       "      <td>$16,146,559</td>\n",
       "    </tr>\n",
       "    <tr>\n",
       "      <th>2</th>\n",
       "      <td>The Divergent Series: Insurgent</td>\n",
       "      <td>$35,099,488</td>\n",
       "    </tr>\n",
       "    <tr>\n",
       "      <th>3</th>\n",
       "      <td>The Expendables 3</td>\n",
       "      <td>$27,073,145</td>\n",
       "    </tr>\n",
       "    <tr>\n",
       "      <th>4</th>\n",
       "      <td>The Expendables</td>\n",
       "      <td>$72,662,317</td>\n",
       "    </tr>\n",
       "  </tbody>\n",
       "</table>\n",
       "</div>"
      ],
      "text/plain": [
       "                                         title   disc_gross\n",
       "0  Valerian and the City of a Thousand Planets  $10,766,251\n",
       "1                                Gods of Egypt  $16,146,559\n",
       "2              The Divergent Series: Insurgent  $35,099,488\n",
       "3                            The Expendables 3  $27,073,145\n",
       "4                              The Expendables  $72,662,317"
      ]
     },
     "execution_count": 49,
     "metadata": {},
     "output_type": "execute_result"
    }
   ],
   "source": [
    "df_indie_fin.head()"
   ]
  },
  {
   "cell_type": "code",
   "execution_count": 50,
   "metadata": {},
   "outputs": [],
   "source": [
    "# reformat disc_gross values\n",
    "df_indie_fin['disc_gross'] = df_indie_fin.loc[:, 'disc_gross'].apply(money_to_int)"
   ]
  },
  {
   "cell_type": "code",
   "execution_count": 51,
   "metadata": {},
   "outputs": [],
   "source": [
    "# merge disc gross from the-numbers to main movie dataframe\n",
    "df_indie_clean = pd.merge(df_indie_clean, df_indie_fin, on='title', how='left')"
   ]
  },
  {
   "cell_type": "code",
   "execution_count": 52,
   "metadata": {},
   "outputs": [
    {
     "data": {
      "text/html": [
       "<div>\n",
       "<style scoped>\n",
       "    .dataframe tbody tr th:only-of-type {\n",
       "        vertical-align: middle;\n",
       "    }\n",
       "\n",
       "    .dataframe tbody tr th {\n",
       "        vertical-align: top;\n",
       "    }\n",
       "\n",
       "    .dataframe thead th {\n",
       "        text-align: right;\n",
       "    }\n",
       "</style>\n",
       "<table border=\"1\" class=\"dataframe\">\n",
       "  <thead>\n",
       "    <tr style=\"text-align: right;\">\n",
       "      <th></th>\n",
       "      <th>title</th>\n",
       "      <th>distributor</th>\n",
       "      <th>genre</th>\n",
       "      <th>mpaa_rating</th>\n",
       "      <th>dom_gross</th>\n",
       "      <th>intl_gross</th>\n",
       "      <th>release_date</th>\n",
       "      <th>runtime</th>\n",
       "      <th>num_theaters</th>\n",
       "      <th>num_days</th>\n",
       "      <th>release_year</th>\n",
       "      <th>release_month</th>\n",
       "      <th>budget</th>\n",
       "      <th>disc_gross</th>\n",
       "    </tr>\n",
       "  </thead>\n",
       "  <tbody>\n",
       "    <tr>\n",
       "      <th>0</th>\n",
       "      <td>Faces Places</td>\n",
       "      <td>Cohen Media Group</td>\n",
       "      <td>Documentary</td>\n",
       "      <td>PG</td>\n",
       "      <td>953717.0</td>\n",
       "      <td>953717.0</td>\n",
       "      <td>2017-10-06</td>\n",
       "      <td>89.0</td>\n",
       "      <td>42.0</td>\n",
       "      <td>196.0</td>\n",
       "      <td>2017</td>\n",
       "      <td>Oct</td>\n",
       "      <td>NaN</td>\n",
       "      <td>NaN</td>\n",
       "    </tr>\n",
       "    <tr>\n",
       "      <th>1</th>\n",
       "      <td>Churchill</td>\n",
       "      <td>Cohen Media Group</td>\n",
       "      <td>Drama</td>\n",
       "      <td>PG</td>\n",
       "      <td>1281258.0</td>\n",
       "      <td>1281258.0</td>\n",
       "      <td>2017-06-02</td>\n",
       "      <td>98.0</td>\n",
       "      <td>215.0</td>\n",
       "      <td>76.0</td>\n",
       "      <td>2017</td>\n",
       "      <td>Jun</td>\n",
       "      <td>NaN</td>\n",
       "      <td>NaN</td>\n",
       "    </tr>\n",
       "    <tr>\n",
       "      <th>2</th>\n",
       "      <td>The Salesman</td>\n",
       "      <td>Cohen Media Group</td>\n",
       "      <td>Drama / Thriller</td>\n",
       "      <td>PG-13</td>\n",
       "      <td>2402067.0</td>\n",
       "      <td>2402067.0</td>\n",
       "      <td>2017-01-27</td>\n",
       "      <td>125.0</td>\n",
       "      <td>115.0</td>\n",
       "      <td>80.0</td>\n",
       "      <td>2017</td>\n",
       "      <td>Jan</td>\n",
       "      <td>NaN</td>\n",
       "      <td>NaN</td>\n",
       "    </tr>\n",
       "    <tr>\n",
       "      <th>3</th>\n",
       "      <td>God's Own Country</td>\n",
       "      <td>Orion Pictures</td>\n",
       "      <td>Drama</td>\n",
       "      <td>Unrated</td>\n",
       "      <td>335609.0</td>\n",
       "      <td>335609.0</td>\n",
       "      <td>2017-10-24</td>\n",
       "      <td>104.0</td>\n",
       "      <td>13.0</td>\n",
       "      <td>136.0</td>\n",
       "      <td>2017</td>\n",
       "      <td>Oct</td>\n",
       "      <td>NaN</td>\n",
       "      <td>NaN</td>\n",
       "    </tr>\n",
       "    <tr>\n",
       "      <th>4</th>\n",
       "      <td>T2: Trainspotting</td>\n",
       "      <td>TriStar</td>\n",
       "      <td>Crime Comedy</td>\n",
       "      <td>R</td>\n",
       "      <td>2402004.0</td>\n",
       "      <td>41681746.0</td>\n",
       "      <td>2017-03-17</td>\n",
       "      <td>117.0</td>\n",
       "      <td>331.0</td>\n",
       "      <td>70.0</td>\n",
       "      <td>2017</td>\n",
       "      <td>Mar</td>\n",
       "      <td>18000000.0</td>\n",
       "      <td>1263168.0</td>\n",
       "    </tr>\n",
       "  </tbody>\n",
       "</table>\n",
       "</div>"
      ],
      "text/plain": [
       "               title        distributor             genre mpaa_rating  \\\n",
       "0       Faces Places  Cohen Media Group       Documentary          PG   \n",
       "1          Churchill  Cohen Media Group             Drama          PG   \n",
       "2       The Salesman  Cohen Media Group  Drama / Thriller       PG-13   \n",
       "3  God's Own Country     Orion Pictures             Drama     Unrated   \n",
       "4  T2: Trainspotting            TriStar      Crime Comedy           R   \n",
       "\n",
       "   dom_gross  intl_gross release_date  runtime  num_theaters  num_days  \\\n",
       "0   953717.0    953717.0   2017-10-06     89.0          42.0     196.0   \n",
       "1  1281258.0   1281258.0   2017-06-02     98.0         215.0      76.0   \n",
       "2  2402067.0   2402067.0   2017-01-27    125.0         115.0      80.0   \n",
       "3   335609.0    335609.0   2017-10-24    104.0          13.0     136.0   \n",
       "4  2402004.0  41681746.0   2017-03-17    117.0         331.0      70.0   \n",
       "\n",
       "   release_year release_month      budget  disc_gross  \n",
       "0          2017           Oct         NaN         NaN  \n",
       "1          2017           Jun         NaN         NaN  \n",
       "2          2017           Jan         NaN         NaN  \n",
       "3          2017           Oct         NaN         NaN  \n",
       "4          2017           Mar  18000000.0   1263168.0  "
      ]
     },
     "execution_count": 52,
     "metadata": {},
     "output_type": "execute_result"
    }
   ],
   "source": [
    "df_indie_clean.head()"
   ]
  },
  {
   "cell_type": "code",
   "execution_count": 53,
   "metadata": {},
   "outputs": [],
   "source": [
    "# replace NaN values in budget values\n",
    "df_indie_clean['budget'].fillna(df_indie_clean['budget'].mean(), inplace=True);"
   ]
  },
  {
   "cell_type": "code",
   "execution_count": 54,
   "metadata": {
    "scrolled": false
   },
   "outputs": [
    {
     "data": {
      "text/html": [
       "<div>\n",
       "<style scoped>\n",
       "    .dataframe tbody tr th:only-of-type {\n",
       "        vertical-align: middle;\n",
       "    }\n",
       "\n",
       "    .dataframe tbody tr th {\n",
       "        vertical-align: top;\n",
       "    }\n",
       "\n",
       "    .dataframe thead th {\n",
       "        text-align: right;\n",
       "    }\n",
       "</style>\n",
       "<table border=\"1\" class=\"dataframe\">\n",
       "  <thead>\n",
       "    <tr style=\"text-align: right;\">\n",
       "      <th></th>\n",
       "      <th>title</th>\n",
       "      <th>distributor</th>\n",
       "      <th>genre</th>\n",
       "      <th>mpaa_rating</th>\n",
       "      <th>dom_gross</th>\n",
       "      <th>intl_gross</th>\n",
       "      <th>release_date</th>\n",
       "      <th>runtime</th>\n",
       "      <th>num_theaters</th>\n",
       "      <th>num_days</th>\n",
       "      <th>release_year</th>\n",
       "      <th>release_month</th>\n",
       "      <th>budget</th>\n",
       "      <th>disc_gross</th>\n",
       "    </tr>\n",
       "  </thead>\n",
       "  <tbody>\n",
       "    <tr>\n",
       "      <th>0</th>\n",
       "      <td>Faces Places</td>\n",
       "      <td>Cohen Media Group</td>\n",
       "      <td>Documentary</td>\n",
       "      <td>PG</td>\n",
       "      <td>953717.0</td>\n",
       "      <td>953717.0</td>\n",
       "      <td>2017-10-06</td>\n",
       "      <td>89.0</td>\n",
       "      <td>42.0</td>\n",
       "      <td>196.0</td>\n",
       "      <td>2017</td>\n",
       "      <td>Oct</td>\n",
       "      <td>2.845660e+07</td>\n",
       "      <td>NaN</td>\n",
       "    </tr>\n",
       "    <tr>\n",
       "      <th>1</th>\n",
       "      <td>Churchill</td>\n",
       "      <td>Cohen Media Group</td>\n",
       "      <td>Drama</td>\n",
       "      <td>PG</td>\n",
       "      <td>1281258.0</td>\n",
       "      <td>1281258.0</td>\n",
       "      <td>2017-06-02</td>\n",
       "      <td>98.0</td>\n",
       "      <td>215.0</td>\n",
       "      <td>76.0</td>\n",
       "      <td>2017</td>\n",
       "      <td>Jun</td>\n",
       "      <td>2.845660e+07</td>\n",
       "      <td>NaN</td>\n",
       "    </tr>\n",
       "    <tr>\n",
       "      <th>2</th>\n",
       "      <td>The Salesman</td>\n",
       "      <td>Cohen Media Group</td>\n",
       "      <td>Drama / Thriller</td>\n",
       "      <td>PG-13</td>\n",
       "      <td>2402067.0</td>\n",
       "      <td>2402067.0</td>\n",
       "      <td>2017-01-27</td>\n",
       "      <td>125.0</td>\n",
       "      <td>115.0</td>\n",
       "      <td>80.0</td>\n",
       "      <td>2017</td>\n",
       "      <td>Jan</td>\n",
       "      <td>2.845660e+07</td>\n",
       "      <td>NaN</td>\n",
       "    </tr>\n",
       "    <tr>\n",
       "      <th>3</th>\n",
       "      <td>God's Own Country</td>\n",
       "      <td>Orion Pictures</td>\n",
       "      <td>Drama</td>\n",
       "      <td>Unrated</td>\n",
       "      <td>335609.0</td>\n",
       "      <td>335609.0</td>\n",
       "      <td>2017-10-24</td>\n",
       "      <td>104.0</td>\n",
       "      <td>13.0</td>\n",
       "      <td>136.0</td>\n",
       "      <td>2017</td>\n",
       "      <td>Oct</td>\n",
       "      <td>2.845660e+07</td>\n",
       "      <td>NaN</td>\n",
       "    </tr>\n",
       "    <tr>\n",
       "      <th>4</th>\n",
       "      <td>T2: Trainspotting</td>\n",
       "      <td>TriStar</td>\n",
       "      <td>Crime Comedy</td>\n",
       "      <td>R</td>\n",
       "      <td>2402004.0</td>\n",
       "      <td>41681746.0</td>\n",
       "      <td>2017-03-17</td>\n",
       "      <td>117.0</td>\n",
       "      <td>331.0</td>\n",
       "      <td>70.0</td>\n",
       "      <td>2017</td>\n",
       "      <td>Mar</td>\n",
       "      <td>1.800000e+07</td>\n",
       "      <td>1263168.0</td>\n",
       "    </tr>\n",
       "  </tbody>\n",
       "</table>\n",
       "</div>"
      ],
      "text/plain": [
       "               title        distributor             genre mpaa_rating  \\\n",
       "0       Faces Places  Cohen Media Group       Documentary          PG   \n",
       "1          Churchill  Cohen Media Group             Drama          PG   \n",
       "2       The Salesman  Cohen Media Group  Drama / Thriller       PG-13   \n",
       "3  God's Own Country     Orion Pictures             Drama     Unrated   \n",
       "4  T2: Trainspotting            TriStar      Crime Comedy           R   \n",
       "\n",
       "   dom_gross  intl_gross release_date  runtime  num_theaters  num_days  \\\n",
       "0   953717.0    953717.0   2017-10-06     89.0          42.0     196.0   \n",
       "1  1281258.0   1281258.0   2017-06-02     98.0         215.0      76.0   \n",
       "2  2402067.0   2402067.0   2017-01-27    125.0         115.0      80.0   \n",
       "3   335609.0    335609.0   2017-10-24    104.0          13.0     136.0   \n",
       "4  2402004.0  41681746.0   2017-03-17    117.0         331.0      70.0   \n",
       "\n",
       "   release_year release_month        budget  disc_gross  \n",
       "0          2017           Oct  2.845660e+07         NaN  \n",
       "1          2017           Jun  2.845660e+07         NaN  \n",
       "2          2017           Jan  2.845660e+07         NaN  \n",
       "3          2017           Oct  2.845660e+07         NaN  \n",
       "4          2017           Mar  1.800000e+07   1263168.0  "
      ]
     },
     "execution_count": 54,
     "metadata": {},
     "output_type": "execute_result"
    }
   ],
   "source": [
    "df_indie_clean.head()"
   ]
  },
  {
   "cell_type": "code",
   "execution_count": 55,
   "metadata": {},
   "outputs": [],
   "source": [
    "# create dataframe to export for modeling\n",
    "df1_exp = df_indie_clean[['intl_gross', 'dom_gross', 'budget', 'runtime', 'num_theaters', 'num_days', 'genre', 'mpaa_rating', 'release_month', 'release_year', 'release_date']]"
   ]
  },
  {
   "cell_type": "code",
   "execution_count": 56,
   "metadata": {},
   "outputs": [],
   "source": [
    "# export df1 csv file with cleaned data\n",
    "#df1_exp.to_csv('data_1.csv', index=False)"
   ]
  },
  {
   "cell_type": "code",
   "execution_count": 57,
   "metadata": {},
   "outputs": [],
   "source": [
    "df2_exp = df1_exp"
   ]
  },
  {
   "cell_type": "code",
   "execution_count": 58,
   "metadata": {},
   "outputs": [
    {
     "name": "stderr",
     "output_type": "stream",
     "text": [
      "/anaconda3/lib/python3.6/site-packages/ipykernel_launcher.py:1: SettingWithCopyWarning: \n",
      "A value is trying to be set on a copy of a slice from a DataFrame.\n",
      "Try using .loc[row_indexer,col_indexer] = value instead\n",
      "\n",
      "See the caveats in the documentation: http://pandas.pydata.org/pandas-docs/stable/indexing.html#indexing-view-versus-copy\n",
      "  \"\"\"Entry point for launching an IPython kernel.\n"
     ]
    }
   ],
   "source": [
    "df2_exp['total_gross'] = df1_exp['intl_gross'] + df_indie_clean['disc_gross']"
   ]
  },
  {
   "cell_type": "code",
   "execution_count": 59,
   "metadata": {},
   "outputs": [],
   "source": [
    "df2 = df2_exp.dropna()"
   ]
  },
  {
   "cell_type": "code",
   "execution_count": 60,
   "metadata": {},
   "outputs": [],
   "source": [
    "# export df2 csv file\n",
    "#df2_exp.to_csv('data_2.csv', index=False)"
   ]
  },
  {
   "cell_type": "code",
   "execution_count": 61,
   "metadata": {},
   "outputs": [
    {
     "data": {
      "text/html": [
       "<div>\n",
       "<style scoped>\n",
       "    .dataframe tbody tr th:only-of-type {\n",
       "        vertical-align: middle;\n",
       "    }\n",
       "\n",
       "    .dataframe tbody tr th {\n",
       "        vertical-align: top;\n",
       "    }\n",
       "\n",
       "    .dataframe thead th {\n",
       "        text-align: right;\n",
       "    }\n",
       "</style>\n",
       "<table border=\"1\" class=\"dataframe\">\n",
       "  <thead>\n",
       "    <tr style=\"text-align: right;\">\n",
       "      <th></th>\n",
       "      <th>intl_gross</th>\n",
       "      <th>dom_gross</th>\n",
       "      <th>budget</th>\n",
       "      <th>runtime</th>\n",
       "      <th>num_theaters</th>\n",
       "      <th>num_days</th>\n",
       "      <th>genre</th>\n",
       "      <th>mpaa_rating</th>\n",
       "      <th>release_month</th>\n",
       "      <th>release_year</th>\n",
       "      <th>release_date</th>\n",
       "      <th>total_gross</th>\n",
       "    </tr>\n",
       "  </thead>\n",
       "  <tbody>\n",
       "    <tr>\n",
       "      <th>4</th>\n",
       "      <td>4.168175e+07</td>\n",
       "      <td>2.402004e+06</td>\n",
       "      <td>1.800000e+07</td>\n",
       "      <td>117.0</td>\n",
       "      <td>331.000000</td>\n",
       "      <td>70.0</td>\n",
       "      <td>Crime Comedy</td>\n",
       "      <td>R</td>\n",
       "      <td>Mar</td>\n",
       "      <td>2017</td>\n",
       "      <td>2017-03-17</td>\n",
       "      <td>4.294491e+07</td>\n",
       "    </tr>\n",
       "    <tr>\n",
       "      <th>6</th>\n",
       "      <td>3.122426e+08</td>\n",
       "      <td>2.683007e+07</td>\n",
       "      <td>4.000000e+07</td>\n",
       "      <td>106.0</td>\n",
       "      <td>114.231318</td>\n",
       "      <td>63.0</td>\n",
       "      <td>Sci-Fi Action</td>\n",
       "      <td>R</td>\n",
       "      <td>Jan</td>\n",
       "      <td>2017</td>\n",
       "      <td>2017-01-27</td>\n",
       "      <td>3.213915e+08</td>\n",
       "    </tr>\n",
       "    <tr>\n",
       "      <th>21</th>\n",
       "      <td>1.336077e+07</td>\n",
       "      <td>7.047337e+06</td>\n",
       "      <td>2.845660e+07</td>\n",
       "      <td>91.0</td>\n",
       "      <td>114.231318</td>\n",
       "      <td>53.0</td>\n",
       "      <td>Thriller</td>\n",
       "      <td>PG-13</td>\n",
       "      <td>Nov</td>\n",
       "      <td>2016</td>\n",
       "      <td>2016-11-11</td>\n",
       "      <td>1.523229e+07</td>\n",
       "    </tr>\n",
       "    <tr>\n",
       "      <th>100</th>\n",
       "      <td>2.269451e+08</td>\n",
       "      <td>1.078259e+08</td>\n",
       "      <td>3.400000e+07</td>\n",
       "      <td>112.0</td>\n",
       "      <td>114.231318</td>\n",
       "      <td>114.0</td>\n",
       "      <td>Action / Crime</td>\n",
       "      <td>R</td>\n",
       "      <td>Jun</td>\n",
       "      <td>2017</td>\n",
       "      <td>2017-06-28</td>\n",
       "      <td>2.437223e+08</td>\n",
       "    </tr>\n",
       "    <tr>\n",
       "      <th>106</th>\n",
       "      <td>1.790369e+08</td>\n",
       "      <td>6.864142e+07</td>\n",
       "      <td>4.000000e+07</td>\n",
       "      <td>131.0</td>\n",
       "      <td>114.231318</td>\n",
       "      <td>126.0</td>\n",
       "      <td>Action Drama</td>\n",
       "      <td>R</td>\n",
       "      <td>Nov</td>\n",
       "      <td>2016</td>\n",
       "      <td>2016-11-04</td>\n",
       "      <td>2.073342e+08</td>\n",
       "    </tr>\n",
       "  </tbody>\n",
       "</table>\n",
       "</div>"
      ],
      "text/plain": [
       "       intl_gross     dom_gross        budget  runtime  num_theaters  \\\n",
       "4    4.168175e+07  2.402004e+06  1.800000e+07    117.0    331.000000   \n",
       "6    3.122426e+08  2.683007e+07  4.000000e+07    106.0    114.231318   \n",
       "21   1.336077e+07  7.047337e+06  2.845660e+07     91.0    114.231318   \n",
       "100  2.269451e+08  1.078259e+08  3.400000e+07    112.0    114.231318   \n",
       "106  1.790369e+08  6.864142e+07  4.000000e+07    131.0    114.231318   \n",
       "\n",
       "     num_days           genre mpaa_rating release_month  release_year  \\\n",
       "4        70.0    Crime Comedy           R           Mar          2017   \n",
       "6        63.0   Sci-Fi Action           R           Jan          2017   \n",
       "21       53.0        Thriller       PG-13           Nov          2016   \n",
       "100     114.0  Action / Crime           R           Jun          2017   \n",
       "106     126.0    Action Drama           R           Nov          2016   \n",
       "\n",
       "    release_date   total_gross  \n",
       "4     2017-03-17  4.294491e+07  \n",
       "6     2017-01-27  3.213915e+08  \n",
       "21    2016-11-11  1.523229e+07  \n",
       "100   2017-06-28  2.437223e+08  \n",
       "106   2016-11-04  2.073342e+08  "
      ]
     },
     "execution_count": 61,
     "metadata": {},
     "output_type": "execute_result"
    }
   ],
   "source": [
    "df2.head()"
   ]
  },
  {
   "cell_type": "code",
   "execution_count": null,
   "metadata": {},
   "outputs": [],
   "source": []
  },
  {
   "cell_type": "code",
   "execution_count": null,
   "metadata": {},
   "outputs": [],
   "source": []
  },
  {
   "cell_type": "code",
   "execution_count": null,
   "metadata": {},
   "outputs": [],
   "source": []
  }
 ],
 "metadata": {
  "kernelspec": {
   "display_name": "Python 3",
   "language": "python",
   "name": "python3"
  },
  "language_info": {
   "codemirror_mode": {
    "name": "ipython",
    "version": 3
   },
   "file_extension": ".py",
   "mimetype": "text/x-python",
   "name": "python",
   "nbconvert_exporter": "python",
   "pygments_lexer": "ipython3",
   "version": "3.6.4"
  }
 },
 "nbformat": 4,
 "nbformat_minor": 2
}
